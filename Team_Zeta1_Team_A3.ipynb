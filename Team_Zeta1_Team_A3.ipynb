{
  "nbformat": 4,
  "nbformat_minor": 0,
  "metadata": {
    "colab": {
      "provenance": [],
      "include_colab_link": true
    },
    "kernelspec": {
      "name": "python3",
      "display_name": "Python 3"
    },
    "language_info": {
      "name": "python"
    }
  },
  "cells": [
    {
      "cell_type": "markdown",
      "metadata": {
        "id": "view-in-github",
        "colab_type": "text"
      },
      "source": [
        "<a href=\"https://colab.research.google.com/github/ShivaniKale0/Peer2Peer_Lending_Analysis/blob/main/Team_Zeta1_Team_A3.ipynb\" target=\"_parent\"><img src=\"https://colab.research.google.com/assets/colab-badge.svg\" alt=\"Open In Colab\"/></a>"
      ]
    },
    {
      "cell_type": "markdown",
      "source": [
        "Team Assignment 3 - COMP488\n",
        "3/24/2023\n",
        "\n",
        "*Link ReadMe"
      ],
      "metadata": {
        "id": "I1MvHp9PV6Np"
      }
    },
    {
      "cell_type": "markdown",
      "source": [
        "0 - Mount & Access Data"
      ],
      "metadata": {
        "id": "TBBgnQGhP9ax"
      }
    },
    {
      "cell_type": "code",
      "source": [
        "#0.1: Install Packages\n",
        "from google.colab import drive\n",
        "import pandas as pd\n",
        "import numpy as np\n",
        "from matplotlib import pyplot as plt\n",
        "from sklearn.impute import SimpleImputer\n",
        "from sklearn.preprocessing import minmax_scale\n",
        "\n",
        "#0.2: Mount Drive\n",
        "drive.mount('/content/gdrive')\n",
        "%cd /content/gdrive/MyDrive/488/Team Assignment 3\n",
        "\n",
        "#0.3: Add Datasets as Dataframes\n",
        "df = pd.read_csv(\"clean_accepted.csv\")"
      ],
      "metadata": {
        "colab": {
          "base_uri": "https://localhost:8080/"
        },
        "id": "rZK61RgWQnH5",
        "outputId": "a23274c7-1b7b-4b37-c3cd-19333459c83c"
      },
      "execution_count": null,
      "outputs": [
        {
          "output_type": "stream",
          "name": "stdout",
          "text": [
            "Mounted at /content/gdrive\n",
            "/content/gdrive/.shortcut-targets-by-id/1Hoo_jngWwdSM0lrfX_xSNb3oGm0CnFg_/Team Assignment 3\n"
          ]
        },
        {
          "output_type": "stream",
          "name": "stderr",
          "text": [
            "<ipython-input-1-84da40ca8791>:14: DtypeWarning: Columns (28) have mixed types. Specify dtype option on import or set low_memory=False.\n",
            "  df = pd.read_csv(\"clean_accepted.csv\")\n"
          ]
        }
      ]
    },
    {
      "cell_type": "markdown",
      "source": [
        "1 - Data Wrangling & Pre-Processing"
      ],
      "metadata": {
        "id": "-YEuA1lcS_74"
      }
    },
    {
      "cell_type": "code",
      "source": [
        "#1.1: Data Wrangling & Pre-Processing\n",
        "df = df.drop(df.columns[0], axis=1)\n",
        "df[\"fico_score\"] = (df[\"fico_range_high\"] + df[\"fico_range_low\"])/2\n",
        "df.drop(columns = ['mths_since_last_delinq', 'mths_since_recent_bc_dlq', 'mths_since_recent_revol_delinq','sec_app_fico_range_low','sec_app_fico_range_high','debt_settlement_flag_date'] )\n",
        "\n",
        "#1.2: Median Impute Missing Numerical Values\n",
        "numeric_features = df.select_dtypes(include=['int64', 'float64']).columns\n",
        "imputer = SimpleImputer(missing_values = np.nan, strategy = 'median')\n",
        "imputer = imputer.fit(df[numeric_features.tolist()])\n",
        "\n",
        "df[numeric_features.tolist()] = imputer.transform(df[numeric_features.tolist()])\n",
        "\n",
        "#1.3: Most-Frequent Impute Missing Categorical Values\n",
        "categorical_features = df.select_dtypes(include=['object', 'category']).columns\n",
        "imputercat = SimpleImputer(missing_values = np.nan, strategy = 'most_frequent')\n",
        "\n",
        "df[categorical_features] = imputercat.fit_transform(df[categorical_features.tolist()])"
      ],
      "metadata": {
        "id": "qMrWRe-7SzNW"
      },
      "execution_count": null,
      "outputs": []
    },
    {
      "cell_type": "markdown",
      "source": [
        "2 - Calculating Baseline Expected Return"
      ],
      "metadata": {
        "id": "BrptMdb1Vksi"
      }
    },
    {
      "cell_type": "code",
      "source": [
        "#2.1: Add Total Interest Amount Column\n",
        "df['total_interest'] = (df[\"int_rate\"]/100) * df[\"loan_amnt\"]\n",
        "\n",
        "#2.2: Sort by Grade\n",
        "df = df.sort_values('grade')\n",
        "\n",
        "#2.3: Calculate Baseline Expected Return of $10M Investment\n",
        "df[\"chargeoff\"] = np.where(df[\"chargeoff_within_12_mths\"] == 0, 0, 1)\n",
        "\n",
        "count = 0\n",
        "capital = 0\n",
        "rev = 0\n",
        "for index, row in df.iterrows():\n",
        "  if (capital + row[\"loan_amnt\"] > 10000000):\n",
        "    break\n",
        "  capital += row[\"loan_amnt\"]\n",
        "  if row[\"chargeoff\"] == 0:\n",
        "    rev += row[\"total_interest\"] #FIX: Add Revenue if not Charge-Off, 0 if Charge-Off\n",
        "  count += 1\n",
        "\n",
        "print(\"Total Amount of Accepted Loans: \" + str(count))\n",
        "print(\"Total Amount of Money Invested: \" + str(capital))\n",
        "print(\"Total Amount: \" + str(rev))\n",
        "\n",
        "baseline_accepted = count\n",
        "baseline_loan_size = capital/count\n",
        "baseline_revenue = rev"
      ],
      "metadata": {
        "colab": {
          "base_uri": "https://localhost:8080/"
        },
        "id": "KDPUbVoLVl3R",
        "outputId": "28270c19-9602-406f-c1c4-71cf05471a98"
      },
      "execution_count": null,
      "outputs": [
        {
          "output_type": "stream",
          "name": "stdout",
          "text": [
            "Total Amount of Accepted Loans: 660\n",
            "Total Amount of Money Invested: 9993400.0\n",
            "Total Amount: 666703.1825\n"
          ]
        }
      ]
    },
    {
      "cell_type": "markdown",
      "source": [
        "3 - Logistic Regression to Predict Charge-Off Risk"
      ],
      "metadata": {
        "id": "IAwHlyb5X2kf"
      }
    },
    {
      "cell_type": "code",
      "source": [
        "import numpy as np\n",
        "from sklearn.model_selection import train_test_split\n",
        "from sklearn.linear_model import LogisticRegression\n",
        "from sklearn.metrics import accuracy_score\n",
        "from sklearn.metrics import confusion_matrix\n",
        "from sklearn.metrics import classification_report\n",
        "import seaborn as sns\n",
        "\n",
        "#3.1: Add Binary Charge-Off Column\n",
        "df[\"chargeoff\"] = np.where(df[\"chargeoff_within_12_mths\"] == 0, 0, 1)\n",
        "\n",
        "#3.2: Pre-Process Data for Model Creation\n",
        "df2 = df.copy()\n",
        "df2 = df2.drop(columns=[\"grade\",\"total_rec_int\",\"verification_status\",'chargeoff_within_12_mths'])\n",
        "\n",
        "continuous_vars = ['annual_inc','delinq_2yrs','delinq_amnt','int_rate', 'last_fico_range_high','last_fico_range_low','loan_amnt','num_accts_ever_120_pd','num_tl_120dpd_2m','num_tl_30dpd','num_tl_90g_dpd_24m','pct_tl_nvr_dlq','pub_rec','pub_rec_bankruptcies','dti'] #FIX: removed term column\n",
        "df2.loc[:,continuous_vars] = minmax_scale(df[continuous_vars])\n",
        "\n",
        "cat_cols = ['emp_length', 'term']\n",
        "df2 = pd.get_dummies(df2[['chargeoff'] + continuous_vars + cat_cols], columns = cat_cols, drop_first = True)\n",
        "\n",
        "df2.head()"
      ],
      "metadata": {
        "id": "yWdlbXSHYQcC",
        "colab": {
          "base_uri": "https://localhost:8080/",
          "height": 334
        },
        "outputId": "723291c1-9fe3-4af1-9e62-6fb55bf07e16"
      },
      "execution_count": null,
      "outputs": [
        {
          "output_type": "execute_result",
          "data": {
            "text/plain": [
              "        chargeoff  annual_inc  delinq_2yrs  delinq_amnt  int_rate  \\\n",
              "677682          0    0.003409     0.000000          0.0  0.000389   \n",
              "425950          0    0.000900     0.000000          0.0  0.054517   \n",
              "425949          0    0.000227     0.000000          0.0  0.079050   \n",
              "985877          0    0.000800     0.034483          0.0  0.000389   \n",
              "425945          0    0.001091     0.000000          0.0  0.000000   \n",
              "\n",
              "        last_fico_range_high  last_fico_range_low  loan_amnt  \\\n",
              "677682              0.869412             0.869822   0.594937   \n",
              "425950              0.816471             0.816568   0.093671   \n",
              "425949              0.887059             0.887574   0.430380   \n",
              "985877              0.969412             0.970414   0.113924   \n",
              "425945              0.981176             0.982249   0.873418   \n",
              "\n",
              "        num_accts_ever_120_pd  num_tl_120dpd_2m  ...  emp_length_2 years  \\\n",
              "677682                    0.0               0.0  ...                   0   \n",
              "425950                    0.0               0.0  ...                   0   \n",
              "425949                    0.0               0.0  ...                   0   \n",
              "985877                    0.0               0.0  ...                   0   \n",
              "425945                    0.0               0.0  ...                   0   \n",
              "\n",
              "        emp_length_3 years  emp_length_4 years  emp_length_5 years  \\\n",
              "677682                   0                   0                   0   \n",
              "425950                   0                   0                   0   \n",
              "425949                   1                   0                   0   \n",
              "985877                   0                   0                   0   \n",
              "425945                   0                   0                   0   \n",
              "\n",
              "        emp_length_6 years  emp_length_7 years  emp_length_8 years  \\\n",
              "677682                   0                   0                   0   \n",
              "425950                   0                   0                   0   \n",
              "425949                   0                   0                   0   \n",
              "985877                   0                   0                   0   \n",
              "425945                   0                   0                   0   \n",
              "\n",
              "        emp_length_9 years  emp_length_< 1 year  term_ 60 months  \n",
              "677682                   0                    0                0  \n",
              "425950                   0                    0                0  \n",
              "425949                   0                    0                0  \n",
              "985877                   0                    0                0  \n",
              "425945                   0                    0                0  \n",
              "\n",
              "[5 rows x 27 columns]"
            ],
            "text/html": [
              "\n",
              "  <div id=\"df-b01f5c0b-3a7a-40ad-93b1-501904509090\">\n",
              "    <div class=\"colab-df-container\">\n",
              "      <div>\n",
              "<style scoped>\n",
              "    .dataframe tbody tr th:only-of-type {\n",
              "        vertical-align: middle;\n",
              "    }\n",
              "\n",
              "    .dataframe tbody tr th {\n",
              "        vertical-align: top;\n",
              "    }\n",
              "\n",
              "    .dataframe thead th {\n",
              "        text-align: right;\n",
              "    }\n",
              "</style>\n",
              "<table border=\"1\" class=\"dataframe\">\n",
              "  <thead>\n",
              "    <tr style=\"text-align: right;\">\n",
              "      <th></th>\n",
              "      <th>chargeoff</th>\n",
              "      <th>annual_inc</th>\n",
              "      <th>delinq_2yrs</th>\n",
              "      <th>delinq_amnt</th>\n",
              "      <th>int_rate</th>\n",
              "      <th>last_fico_range_high</th>\n",
              "      <th>last_fico_range_low</th>\n",
              "      <th>loan_amnt</th>\n",
              "      <th>num_accts_ever_120_pd</th>\n",
              "      <th>num_tl_120dpd_2m</th>\n",
              "      <th>...</th>\n",
              "      <th>emp_length_2 years</th>\n",
              "      <th>emp_length_3 years</th>\n",
              "      <th>emp_length_4 years</th>\n",
              "      <th>emp_length_5 years</th>\n",
              "      <th>emp_length_6 years</th>\n",
              "      <th>emp_length_7 years</th>\n",
              "      <th>emp_length_8 years</th>\n",
              "      <th>emp_length_9 years</th>\n",
              "      <th>emp_length_&lt; 1 year</th>\n",
              "      <th>term_ 60 months</th>\n",
              "    </tr>\n",
              "  </thead>\n",
              "  <tbody>\n",
              "    <tr>\n",
              "      <th>677682</th>\n",
              "      <td>0</td>\n",
              "      <td>0.003409</td>\n",
              "      <td>0.000000</td>\n",
              "      <td>0.0</td>\n",
              "      <td>0.000389</td>\n",
              "      <td>0.869412</td>\n",
              "      <td>0.869822</td>\n",
              "      <td>0.594937</td>\n",
              "      <td>0.0</td>\n",
              "      <td>0.0</td>\n",
              "      <td>...</td>\n",
              "      <td>0</td>\n",
              "      <td>0</td>\n",
              "      <td>0</td>\n",
              "      <td>0</td>\n",
              "      <td>0</td>\n",
              "      <td>0</td>\n",
              "      <td>0</td>\n",
              "      <td>0</td>\n",
              "      <td>0</td>\n",
              "      <td>0</td>\n",
              "    </tr>\n",
              "    <tr>\n",
              "      <th>425950</th>\n",
              "      <td>0</td>\n",
              "      <td>0.000900</td>\n",
              "      <td>0.000000</td>\n",
              "      <td>0.0</td>\n",
              "      <td>0.054517</td>\n",
              "      <td>0.816471</td>\n",
              "      <td>0.816568</td>\n",
              "      <td>0.093671</td>\n",
              "      <td>0.0</td>\n",
              "      <td>0.0</td>\n",
              "      <td>...</td>\n",
              "      <td>0</td>\n",
              "      <td>0</td>\n",
              "      <td>0</td>\n",
              "      <td>0</td>\n",
              "      <td>0</td>\n",
              "      <td>0</td>\n",
              "      <td>0</td>\n",
              "      <td>0</td>\n",
              "      <td>0</td>\n",
              "      <td>0</td>\n",
              "    </tr>\n",
              "    <tr>\n",
              "      <th>425949</th>\n",
              "      <td>0</td>\n",
              "      <td>0.000227</td>\n",
              "      <td>0.000000</td>\n",
              "      <td>0.0</td>\n",
              "      <td>0.079050</td>\n",
              "      <td>0.887059</td>\n",
              "      <td>0.887574</td>\n",
              "      <td>0.430380</td>\n",
              "      <td>0.0</td>\n",
              "      <td>0.0</td>\n",
              "      <td>...</td>\n",
              "      <td>0</td>\n",
              "      <td>1</td>\n",
              "      <td>0</td>\n",
              "      <td>0</td>\n",
              "      <td>0</td>\n",
              "      <td>0</td>\n",
              "      <td>0</td>\n",
              "      <td>0</td>\n",
              "      <td>0</td>\n",
              "      <td>0</td>\n",
              "    </tr>\n",
              "    <tr>\n",
              "      <th>985877</th>\n",
              "      <td>0</td>\n",
              "      <td>0.000800</td>\n",
              "      <td>0.034483</td>\n",
              "      <td>0.0</td>\n",
              "      <td>0.000389</td>\n",
              "      <td>0.969412</td>\n",
              "      <td>0.970414</td>\n",
              "      <td>0.113924</td>\n",
              "      <td>0.0</td>\n",
              "      <td>0.0</td>\n",
              "      <td>...</td>\n",
              "      <td>0</td>\n",
              "      <td>0</td>\n",
              "      <td>0</td>\n",
              "      <td>0</td>\n",
              "      <td>0</td>\n",
              "      <td>0</td>\n",
              "      <td>0</td>\n",
              "      <td>0</td>\n",
              "      <td>0</td>\n",
              "      <td>0</td>\n",
              "    </tr>\n",
              "    <tr>\n",
              "      <th>425945</th>\n",
              "      <td>0</td>\n",
              "      <td>0.001091</td>\n",
              "      <td>0.000000</td>\n",
              "      <td>0.0</td>\n",
              "      <td>0.000000</td>\n",
              "      <td>0.981176</td>\n",
              "      <td>0.982249</td>\n",
              "      <td>0.873418</td>\n",
              "      <td>0.0</td>\n",
              "      <td>0.0</td>\n",
              "      <td>...</td>\n",
              "      <td>0</td>\n",
              "      <td>0</td>\n",
              "      <td>0</td>\n",
              "      <td>0</td>\n",
              "      <td>0</td>\n",
              "      <td>0</td>\n",
              "      <td>0</td>\n",
              "      <td>0</td>\n",
              "      <td>0</td>\n",
              "      <td>0</td>\n",
              "    </tr>\n",
              "  </tbody>\n",
              "</table>\n",
              "<p>5 rows × 27 columns</p>\n",
              "</div>\n",
              "      <button class=\"colab-df-convert\" onclick=\"convertToInteractive('df-b01f5c0b-3a7a-40ad-93b1-501904509090')\"\n",
              "              title=\"Convert this dataframe to an interactive table.\"\n",
              "              style=\"display:none;\">\n",
              "        \n",
              "  <svg xmlns=\"http://www.w3.org/2000/svg\" height=\"24px\"viewBox=\"0 0 24 24\"\n",
              "       width=\"24px\">\n",
              "    <path d=\"M0 0h24v24H0V0z\" fill=\"none\"/>\n",
              "    <path d=\"M18.56 5.44l.94 2.06.94-2.06 2.06-.94-2.06-.94-.94-2.06-.94 2.06-2.06.94zm-11 1L8.5 8.5l.94-2.06 2.06-.94-2.06-.94L8.5 2.5l-.94 2.06-2.06.94zm10 10l.94 2.06.94-2.06 2.06-.94-2.06-.94-.94-2.06-.94 2.06-2.06.94z\"/><path d=\"M17.41 7.96l-1.37-1.37c-.4-.4-.92-.59-1.43-.59-.52 0-1.04.2-1.43.59L10.3 9.45l-7.72 7.72c-.78.78-.78 2.05 0 2.83L4 21.41c.39.39.9.59 1.41.59.51 0 1.02-.2 1.41-.59l7.78-7.78 2.81-2.81c.8-.78.8-2.07 0-2.86zM5.41 20L4 18.59l7.72-7.72 1.47 1.35L5.41 20z\"/>\n",
              "  </svg>\n",
              "      </button>\n",
              "      \n",
              "  <style>\n",
              "    .colab-df-container {\n",
              "      display:flex;\n",
              "      flex-wrap:wrap;\n",
              "      gap: 12px;\n",
              "    }\n",
              "\n",
              "    .colab-df-convert {\n",
              "      background-color: #E8F0FE;\n",
              "      border: none;\n",
              "      border-radius: 50%;\n",
              "      cursor: pointer;\n",
              "      display: none;\n",
              "      fill: #1967D2;\n",
              "      height: 32px;\n",
              "      padding: 0 0 0 0;\n",
              "      width: 32px;\n",
              "    }\n",
              "\n",
              "    .colab-df-convert:hover {\n",
              "      background-color: #E2EBFA;\n",
              "      box-shadow: 0px 1px 2px rgba(60, 64, 67, 0.3), 0px 1px 3px 1px rgba(60, 64, 67, 0.15);\n",
              "      fill: #174EA6;\n",
              "    }\n",
              "\n",
              "    [theme=dark] .colab-df-convert {\n",
              "      background-color: #3B4455;\n",
              "      fill: #D2E3FC;\n",
              "    }\n",
              "\n",
              "    [theme=dark] .colab-df-convert:hover {\n",
              "      background-color: #434B5C;\n",
              "      box-shadow: 0px 1px 3px 1px rgba(0, 0, 0, 0.15);\n",
              "      filter: drop-shadow(0px 1px 2px rgba(0, 0, 0, 0.3));\n",
              "      fill: #FFFFFF;\n",
              "    }\n",
              "  </style>\n",
              "\n",
              "      <script>\n",
              "        const buttonEl =\n",
              "          document.querySelector('#df-b01f5c0b-3a7a-40ad-93b1-501904509090 button.colab-df-convert');\n",
              "        buttonEl.style.display =\n",
              "          google.colab.kernel.accessAllowed ? 'block' : 'none';\n",
              "\n",
              "        async function convertToInteractive(key) {\n",
              "          const element = document.querySelector('#df-b01f5c0b-3a7a-40ad-93b1-501904509090');\n",
              "          const dataTable =\n",
              "            await google.colab.kernel.invokeFunction('convertToInteractive',\n",
              "                                                     [key], {});\n",
              "          if (!dataTable) return;\n",
              "\n",
              "          const docLinkHtml = 'Like what you see? Visit the ' +\n",
              "            '<a target=\"_blank\" href=https://colab.research.google.com/notebooks/data_table.ipynb>data table notebook</a>'\n",
              "            + ' to learn more about interactive tables.';\n",
              "          element.innerHTML = '';\n",
              "          dataTable['output_type'] = 'display_data';\n",
              "          await google.colab.output.renderOutput(dataTable, element);\n",
              "          const docLink = document.createElement('div');\n",
              "          docLink.innerHTML = docLinkHtml;\n",
              "          element.appendChild(docLink);\n",
              "        }\n",
              "      </script>\n",
              "    </div>\n",
              "  </div>\n",
              "  "
            ]
          },
          "metadata": {},
          "execution_count": 4
        }
      ]
    },
    {
      "cell_type": "code",
      "source": [
        "#3.4: Split Training, Testing Data\n",
        "y = df2.chargeoff\n",
        "X = df2.drop(columns=['chargeoff'])\n",
        "\n",
        "X_train, X_test, y_train, y_test = train_test_split(X, y, test_size=0.3, stratify=y, random_state=42)\n",
        "\n",
        "#3.5: Logistic Regression Model Construction\n",
        "logreg = LogisticRegression(solver='lbfgs', C=1, tol=.0001, max_iter=1000)\n",
        "logreg.fit(X_train, y_train)\n",
        "y_pred = logreg.predict(X_test)"
      ],
      "metadata": {
        "id": "dZXfn6xnnJ0K"
      },
      "execution_count": null,
      "outputs": []
    },
    {
      "cell_type": "code",
      "source": [
        "#3.6: Output Logistic Regression Model Results\n",
        "def show_results(y_test, y_pred):\n",
        "  print(accuracy_score(y_test, y_pred))\n",
        "\n",
        "  con_matrix = confusion_matrix(y_test, y_pred)\n",
        "  confusion_matrix_df = pd.DataFrame(con_matrix, ('Charge Off', 'Not Charge Off'), ('Charge Off', 'Not Charge Off'))\n",
        "  heatmap = sns.heatmap(confusion_matrix_df, annot=True, annot_kws={\"size\": 20}, fmt=\"d\", cmap=\"Blues\")\n",
        "  heatmap.yaxis.set_ticklabels(heatmap.yaxis.get_ticklabels(), rotation=0, ha='right', fontsize = 14)\n",
        "  heatmap.xaxis.set_ticklabels(heatmap.xaxis.get_ticklabels(), rotation=45, ha='right', fontsize = 14)\n",
        "  plt.ylabel('Actual', fontsize = 14)\n",
        "  plt.xlabel('Predicted', fontsize = 14)\n",
        "\n",
        "  print(classification_report(y_test, y_pred))\n",
        "\n",
        "\n",
        "show_results(y_test, y_pred)\n",
        "\n"
      ],
      "metadata": {
        "id": "WMPYagQwm-zt",
        "colab": {
          "base_uri": "https://localhost:8080/",
          "height": 536
        },
        "outputId": "68471438-7372-4d8b-b1b5-e291a6eb7ce4"
      },
      "execution_count": null,
      "outputs": [
        {
          "output_type": "stream",
          "name": "stdout",
          "text": [
            "0.991943510205526\n",
            "              precision    recall  f1-score   support\n",
            "\n",
            "           0       0.99      1.00      1.00    673056\n",
            "           1       0.06      0.00      0.01      5155\n",
            "\n",
            "    accuracy                           0.99    678211\n",
            "   macro avg       0.53      0.50      0.50    678211\n",
            "weighted avg       0.99      0.99      0.99    678211\n",
            "\n"
          ]
        },
        {
          "output_type": "display_data",
          "data": {
            "text/plain": [
              "<Figure size 432x288 with 2 Axes>"
            ],
            "image/png": "[encoded data removed]"
          },
          "metadata": {
            "needs_background": "light"
          }
        }
      ]
    },
    {
      "cell_type": "markdown",
      "source": [
        "4 - Random Forest Model to Predict Charge-Off Risk"
      ],
      "metadata": {
        "id": "DIQux2Uyx4oC"
      }
    },
    {
      "cell_type": "code",
      "source": [
        "from sklearn.ensemble import RandomForestClassifier\n",
        "\n",
        "#4.1: Random Forest Model Construction\n",
        "forest = RandomForestClassifier(max_features=6, n_estimators=25, max_depth=9,random_state=21)\n",
        "forest.fit(X_train, y_train)\n",
        "y_pred = forest.predict(X_test)\n",
        "\n",
        "#4.2: Output Random Forest Model Results\n",
        "show_results(y_test, y_pred)"
      ],
      "metadata": {
        "colab": {
          "base_uri": "https://localhost:8080/",
          "height": 663
        },
        "id": "VxDAWXNoveUx",
        "outputId": "2e8074e1-c2eb-4fe2-a5db-a734351b5965"
      },
      "execution_count": null,
      "outputs": [
        {
          "output_type": "stream",
          "name": "stdout",
          "text": [
            "0.9923991206276512\n"
          ]
        },
        {
          "output_type": "stream",
          "name": "stderr",
          "text": [
            "/usr/local/lib/python3.9/dist-packages/sklearn/metrics/_classification.py:1344: UndefinedMetricWarning: Precision and F-score are ill-defined and being set to 0.0 in labels with no predicted samples. Use `zero_division` parameter to control this behavior.\n",
            "  _warn_prf(average, modifier, msg_start, len(result))\n",
            "/usr/local/lib/python3.9/dist-packages/sklearn/metrics/_classification.py:1344: UndefinedMetricWarning: Precision and F-score are ill-defined and being set to 0.0 in labels with no predicted samples. Use `zero_division` parameter to control this behavior.\n",
            "  _warn_prf(average, modifier, msg_start, len(result))\n"
          ]
        },
        {
          "output_type": "stream",
          "name": "stdout",
          "text": [
            "              precision    recall  f1-score   support\n",
            "\n",
            "           0       0.99      1.00      1.00    673056\n",
            "           1       0.00      0.00      0.00      5155\n",
            "\n",
            "    accuracy                           0.99    678211\n",
            "   macro avg       0.50      0.50      0.50    678211\n",
            "weighted avg       0.98      0.99      0.99    678211\n",
            "\n"
          ]
        },
        {
          "output_type": "stream",
          "name": "stderr",
          "text": [
            "/usr/local/lib/python3.9/dist-packages/sklearn/metrics/_classification.py:1344: UndefinedMetricWarning: Precision and F-score are ill-defined and being set to 0.0 in labels with no predicted samples. Use `zero_division` parameter to control this behavior.\n",
            "  _warn_prf(average, modifier, msg_start, len(result))\n"
          ]
        },
        {
          "output_type": "display_data",
          "data": {
            "text/plain": [
              "<Figure size 432x288 with 2 Axes>"
            ],
            "image/png": "[encoded data removed]"
          },
          "metadata": {
            "needs_background": "light"
          }
        }
      ]
    },
    {
      "cell_type": "markdown",
      "source": [
        "5 - Label as Expected HighRiskReturn"
      ],
      "metadata": {
        "id": "9LnzHPBoyUo0"
      }
    },
    {
      "cell_type": "code",
      "source": [
        "#5.1: Output HighRiskReturn Label from Logistic Regression Model\n",
        "\n",
        "array = logreg.predict_proba(df2.drop(columns=['chargeoff']))[:,0]\n",
        "array_np = np.array(array)\n",
        "df['logreg_Expected_Risk'] = array_np.tolist()\n",
        "df['logreg_Expected_RiskReturn'] = df['logreg_Expected_Risk']*df['int_rate']\n",
        "df['logreg_Expected_HighRiskReturn'] = df['logreg_Expected_RiskReturn'] > 6.67"
      ],
      "metadata": {
        "id": "TdxTRLhr3GvN"
      },
      "execution_count": null,
      "outputs": []
    },
    {
      "cell_type": "code",
      "source": [
        "#5.2: Output HighRiskReturn Label from Random Forest Model\n",
        "\n",
        "array = forest.predict_proba(df2.drop(columns=['chargeoff']))[:,0]\n",
        "array_np = np.array(array)\n",
        "df['forest_Expected_Risk'] = array_np.tolist()\n",
        "df['forest_Expected_RiskReturn'] = df['forest_Expected_Risk']*df['int_rate']\n",
        "df['forest_Expected_HighRiskReturn'] = df['forest_Expected_RiskReturn'] > 6.67"
      ],
      "metadata": {
        "id": "HMKCGp1TpekO"
      },
      "execution_count": null,
      "outputs": []
    },
    {
      "cell_type": "markdown",
      "source": [
        "6 - Calculating Optimized Expected Return"
      ],
      "metadata": {
        "id": "V9l430Dky5fb"
      }
    },
    {
      "cell_type": "code",
      "source": [
        "#6.1: Calculate Logistic Regression Optimized Expected Return of $10M Investment\n",
        "\n",
        "highreturn_df = df[df[\"logreg_Expected_HighRiskReturn\"] == True]\n",
        "count = 0\n",
        "capital = 0\n",
        "rev = 0\n",
        "for index, row in highreturn_df.iterrows():\n",
        "  if (capital + row[\"loan_amnt\"] > 10000000):\n",
        "    break\n",
        "  capital += row[\"loan_amnt\"]\n",
        "  rev += row[\"total_interest\"]\n",
        "  count += 1\n",
        "\n",
        "print(\"Total Amount of Accepted Loans: \" + str(count))\n",
        "print(\"Total Amount of Money Invested: \" + str(capital))\n",
        "print(\"Total Amount: \" + str(rev))\n",
        "\n",
        "#6.2: Compute Differential\n",
        "opt_accepted = count\n",
        "opt_loan_size = capital/count\n",
        "opt_revenue = rev\n",
        "\n",
        "dif_accepted = opt_accepted - baseline_accepted\n",
        "dif_loan_size = opt_loan_size - baseline_loan_size\n",
        "dif_revenue = opt_revenue - baseline_revenue\n",
        "\n",
        "print(\"Differential in Accepted Loans: \" + str(dif_accepted))\n",
        "print(\"Differential in Loan Size: \" + str(dif_loan_size))\n",
        "print(\"Differential in Amount Earned: \" + str(dif_revenue))"
      ],
      "metadata": {
        "colab": {
          "base_uri": "https://localhost:8080/"
        },
        "id": "pxWIuupQt6ER",
        "outputId": "bd44cf9a-32ab-4d6d-e026-ec132a56481a"
      },
      "execution_count": null,
      "outputs": [
        {
          "output_type": "stream",
          "name": "stdout",
          "text": [
            "Total Amount of Accepted Loans: 696\n",
            "Total Amount of Money Invested: 9992725.0\n",
            "Total Amount: 745422.3349999998\n",
            "Differential in Accepted Loans: 36\n",
            "Differential in Loan Size: -784.1516457680264\n",
            "Differential in Amount Earned: 78719.15249999985\n"
          ]
        }
      ]
    },
    {
      "cell_type": "code",
      "source": [
        "#6.2: Calculate Random Forest Optimized Expected Return of $10M Investment\n",
        "\n",
        "highreturn_df = df[df[\"forest_Expected_HighRiskReturn\"] == True]\n",
        "count = 0\n",
        "capital = 0\n",
        "rev = 0\n",
        "for index, row in highreturn_df.iterrows():\n",
        "  if (capital + row[\"loan_amnt\"] > 10000000):\n",
        "    break\n",
        "  capital += row[\"loan_amnt\"]\n",
        "  rev += row[\"total_interest\"]\n",
        "  count += 1\n",
        "\n",
        "print(\"Total Amount of Accepted Loans: \" + str(count))\n",
        "print(\"Total Amount of Money Invested: \" + str(capital))\n",
        "print(\"Total Amount: \" + str(rev))\n",
        "\n",
        "#6.2: Compute Differential\n",
        "opt_accepted = count\n",
        "opt_loan_size = capital/count\n",
        "opt_revenue = rev\n",
        "\n",
        "dif_accepted = opt_accepted - baseline_accepted\n",
        "dif_loan_size = opt_loan_size - baseline_loan_size\n",
        "dif_revenue = opt_revenue - baseline_revenue\n",
        "\n",
        "print(\"Differential in Accepted Loans: \" + str(dif_accepted))\n",
        "print(\"Differential in Loan Size: \" + str(dif_loan_size))\n",
        "print(\"Differential in Amount Earned: \" + str(dif_revenue))"
      ],
      "metadata": {
        "id": "brsEvmhg7zZh",
        "colab": {
          "base_uri": "https://localhost:8080/"
        },
        "outputId": "fe5bf4fd-26d0-433a-a158-db33aca58de2"
      },
      "execution_count": null,
      "outputs": [
        {
          "output_type": "stream",
          "name": "stdout",
          "text": [
            "Total Amount of Accepted Loans: 697\n",
            "Total Amount of Money Invested: 9973625.0\n",
            "Total Amount: 743147.3849999999\n",
            "Differential in Accepted Loans: 37\n",
            "Differential in Loan Size: -832.1536020173044\n",
            "Differential in Amount Earned: 76444.2024999999\n"
          ]
        }
      ]
    }
  ]
}